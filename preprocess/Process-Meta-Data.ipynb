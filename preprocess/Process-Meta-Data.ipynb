{
 "cells": [
  {
   "cell_type": "code",
   "execution_count": 3,
   "metadata": {
    "collapsed": false,
    "deletable": true,
    "editable": true
   },
   "outputs": [],
   "source": [
    "import cv2\n",
    "import sys, os, time\n",
    "import numpy as np\n",
    "import pandas as pd\n",
    "import matplotlib.pyplot as plt\n",
    "%matplotlib inline\n",
    "\n",
    "import scipy.io as sio"
   ]
  },
  {
   "cell_type": "markdown",
   "metadata": {
    "deletable": true,
    "editable": true
   },
   "source": [
    "### Load meta data file including age"
   ]
  },
  {
   "cell_type": "code",
   "execution_count": 16,
   "metadata": {
    "collapsed": false,
    "deletable": true,
    "editable": true
   },
   "outputs": [
    {
     "name": "stdout",
     "output_type": "stream",
     "text": [
      "(62328, 8)\n",
      "18016\n"
     ]
    },
    {
     "data": {
      "text/html": [
       "<div>\n",
       "<table border=\"1\" class=\"dataframe\">\n",
       "  <thead>\n",
       "    <tr style=\"text-align: right;\">\n",
       "      <th></th>\n",
       "      <th>full_path</th>\n",
       "      <th>dob</th>\n",
       "      <th>face_location</th>\n",
       "      <th>face_score</th>\n",
       "      <th>gender</th>\n",
       "      <th>photo_taken</th>\n",
       "      <th>second_face_score</th>\n",
       "      <th>age</th>\n",
       "    </tr>\n",
       "  </thead>\n",
       "  <tbody>\n",
       "    <tr>\n",
       "      <th>0</th>\n",
       "      <td>17/10000217_1981-05-05_2009.jpg</td>\n",
       "      <td>723671</td>\n",
       "      <td>111.291      111.291       252.67       252.67</td>\n",
       "      <td>4.3010</td>\n",
       "      <td>1.0</td>\n",
       "      <td>2009</td>\n",
       "      <td>NaN</td>\n",
       "      <td>28</td>\n",
       "    </tr>\n",
       "    <tr>\n",
       "      <th>1</th>\n",
       "      <td>48/10000548_1925-04-04_1964.jpg</td>\n",
       "      <td>703186</td>\n",
       "      <td>252.483      126.682      354.532       228.73</td>\n",
       "      <td>2.6456</td>\n",
       "      <td>1.0</td>\n",
       "      <td>1964</td>\n",
       "      <td>1.9492</td>\n",
       "      <td>39</td>\n",
       "    </tr>\n",
       "    <tr>\n",
       "      <th>2</th>\n",
       "      <td>12/100012_1948-07-03_2008.jpg</td>\n",
       "      <td>711677</td>\n",
       "      <td>113.52       169.84       366.08        422.4</td>\n",
       "      <td>4.3293</td>\n",
       "      <td>1.0</td>\n",
       "      <td>2008</td>\n",
       "      <td>NaN</td>\n",
       "      <td>59</td>\n",
       "    </tr>\n",
       "  </tbody>\n",
       "</table>\n",
       "</div>"
      ],
      "text/plain": [
       "                         full_path     dob  \\\n",
       "0  17/10000217_1981-05-05_2009.jpg  723671   \n",
       "1  48/10000548_1925-04-04_1964.jpg  703186   \n",
       "2    12/100012_1948-07-03_2008.jpg  711677   \n",
       "\n",
       "                                    face_location  face_score  gender  \\\n",
       "0  111.291      111.291       252.67       252.67      4.3010     1.0   \n",
       "1  252.483      126.682      354.532       228.73      2.6456     1.0   \n",
       "2   113.52       169.84       366.08        422.4      4.3293     1.0   \n",
       "\n",
       "   photo_taken  second_face_score  age  \n",
       "0         2009                NaN   28  \n",
       "1         1964             1.9492   39  \n",
       "2         2008                NaN   59  "
      ]
     },
     "execution_count": 16,
     "metadata": {},
     "output_type": "execute_result"
    }
   ],
   "source": [
    "metaFile=\"/Users/markus/Work/data/wiki/wiki_meta.csv\"\n",
    "meta = pd.read_csv(metaFile)\n",
    "\n",
    "print(meta.shape)\n",
    "print(sum(meta.face_score<0))\n",
    "meta.head(3)"
   ]
  },
  {
   "cell_type": "code",
   "execution_count": 17,
   "metadata": {
    "collapsed": false,
    "deletable": true,
    "editable": true
   },
   "outputs": [
    {
     "name": "stdout",
     "output_type": "stream",
     "text": [
      "Low face score: 18016\n",
      "Two faces: 4096\n",
      "Low age: 8\n",
      "High age: 18\n",
      "(40190, 8)\n"
     ]
    }
   ],
   "source": [
    "# clean table\n",
    "idx = meta.face_score<0\n",
    "print(\"Low face score: {}\".format(sum(idx)))\n",
    "meta=meta[~idx]\n",
    "\n",
    "idx = ~meta.second_face_score.isnull()\n",
    "print(\"Two faces: {}\".format(sum(idx)))\n",
    "meta=meta[~idx]\n",
    "\n",
    "idx = meta.age<1\n",
    "print(\"Low age: {}\".format(sum(idx)))\n",
    "meta=meta[~idx]\n",
    "\n",
    "idx = meta.age>120\n",
    "print(\"High age: {}\".format(sum(idx)))\n",
    "meta=meta[~idx]\n",
    "\n",
    "print(meta.shape)"
   ]
  },
  {
   "cell_type": "code",
   "execution_count": 18,
   "metadata": {
    "collapsed": false,
    "deletable": true,
    "editable": true
   },
   "outputs": [
    {
     "data": {
      "text/html": [
       "<div>\n",
       "<table border=\"1\" class=\"dataframe\">\n",
       "  <thead>\n",
       "    <tr style=\"text-align: right;\">\n",
       "      <th></th>\n",
       "      <th>full_path</th>\n",
       "      <th>dob</th>\n",
       "      <th>face_location</th>\n",
       "      <th>face_score</th>\n",
       "      <th>gender</th>\n",
       "      <th>photo_taken</th>\n",
       "      <th>second_face_score</th>\n",
       "      <th>age</th>\n",
       "    </tr>\n",
       "  </thead>\n",
       "  <tbody>\n",
       "    <tr>\n",
       "      <th>0</th>\n",
       "      <td>00/10049200_1891-09-16_1958.jpg</td>\n",
       "      <td>690933</td>\n",
       "      <td>126.869      111.111      267.897      252.138</td>\n",
       "      <td>5.2548</td>\n",
       "      <td>0.0</td>\n",
       "      <td>1958</td>\n",
       "      <td>NaN</td>\n",
       "      <td>66</td>\n",
       "    </tr>\n",
       "    <tr>\n",
       "      <th>1</th>\n",
       "      <td>00/10110600_1985-09-17_2012.jpg</td>\n",
       "      <td>725267</td>\n",
       "      <td>217.681      129.039      305.324      216.681</td>\n",
       "      <td>3.6931</td>\n",
       "      <td>1.0</td>\n",
       "      <td>2012</td>\n",
       "      <td>NaN</td>\n",
       "      <td>26</td>\n",
       "    </tr>\n",
       "    <tr>\n",
       "      <th>2</th>\n",
       "      <td>00/1013900_1917-10-15_1960.jpg</td>\n",
       "      <td>700458</td>\n",
       "      <td>80.871      90.9204      170.839      180.889</td>\n",
       "      <td>4.1361</td>\n",
       "      <td>1.0</td>\n",
       "      <td>1960</td>\n",
       "      <td>NaN</td>\n",
       "      <td>42</td>\n",
       "    </tr>\n",
       "    <tr>\n",
       "      <th>3</th>\n",
       "      <td>00/10166400_1960-03-12_2008.jpg</td>\n",
       "      <td>715947</td>\n",
       "      <td>40.7043      120.353      398.243      477.891</td>\n",
       "      <td>3.8709</td>\n",
       "      <td>1.0</td>\n",
       "      <td>2008</td>\n",
       "      <td>NaN</td>\n",
       "      <td>48</td>\n",
       "    </tr>\n",
       "    <tr>\n",
       "      <th>4</th>\n",
       "      <td>00/1024100_1982-06-07_2011.jpg</td>\n",
       "      <td>724069</td>\n",
       "      <td>315.84         62.4          384       130.56</td>\n",
       "      <td>3.2003</td>\n",
       "      <td>1.0</td>\n",
       "      <td>2011</td>\n",
       "      <td>NaN</td>\n",
       "      <td>29</td>\n",
       "    </tr>\n",
       "    <tr>\n",
       "      <th>5</th>\n",
       "      <td>00/10292500_1984-03-26_2009.jpg</td>\n",
       "      <td>724727</td>\n",
       "      <td>269.565      44.2163       346.69      121.342</td>\n",
       "      <td>3.2169</td>\n",
       "      <td>1.0</td>\n",
       "      <td>2009</td>\n",
       "      <td>NaN</td>\n",
       "      <td>25</td>\n",
       "    </tr>\n",
       "    <tr>\n",
       "      <th>6</th>\n",
       "      <td>00/1035700_1945-11-27_2013.jpg</td>\n",
       "      <td>710728</td>\n",
       "      <td>196.998      74.4241      306.434       183.86</td>\n",
       "      <td>3.3795</td>\n",
       "      <td>1.0</td>\n",
       "      <td>2013</td>\n",
       "      <td>NaN</td>\n",
       "      <td>67</td>\n",
       "    </tr>\n",
       "    <tr>\n",
       "      <th>7</th>\n",
       "      <td>00/10525500_1916-02-14_1951.jpg</td>\n",
       "      <td>699849</td>\n",
       "      <td>79.7026      132.251      315.291      367.839</td>\n",
       "      <td>3.8765</td>\n",
       "      <td>1.0</td>\n",
       "      <td>1951</td>\n",
       "      <td>NaN</td>\n",
       "      <td>35</td>\n",
       "    </tr>\n",
       "    <tr>\n",
       "      <th>8</th>\n",
       "      <td>00/10623500_1931-09-25_1956.jpg</td>\n",
       "      <td>705551</td>\n",
       "      <td>118.427      74.3167      249.957      205.847</td>\n",
       "      <td>3.9789</td>\n",
       "      <td>0.0</td>\n",
       "      <td>1956</td>\n",
       "      <td>NaN</td>\n",
       "      <td>24</td>\n",
       "    </tr>\n",
       "    <tr>\n",
       "      <th>9</th>\n",
       "      <td>00/10870400_1971-06-28_2013.jpg</td>\n",
       "      <td>720072</td>\n",
       "      <td>169.84       183.92       295.68       309.76</td>\n",
       "      <td>2.9951</td>\n",
       "      <td>1.0</td>\n",
       "      <td>2013</td>\n",
       "      <td>NaN</td>\n",
       "      <td>42</td>\n",
       "    </tr>\n",
       "  </tbody>\n",
       "</table>\n",
       "</div>"
      ],
      "text/plain": [
       "                         full_path     dob  \\\n",
       "0  00/10049200_1891-09-16_1958.jpg  690933   \n",
       "1  00/10110600_1985-09-17_2012.jpg  725267   \n",
       "2   00/1013900_1917-10-15_1960.jpg  700458   \n",
       "3  00/10166400_1960-03-12_2008.jpg  715947   \n",
       "4   00/1024100_1982-06-07_2011.jpg  724069   \n",
       "5  00/10292500_1984-03-26_2009.jpg  724727   \n",
       "6   00/1035700_1945-11-27_2013.jpg  710728   \n",
       "7  00/10525500_1916-02-14_1951.jpg  699849   \n",
       "8  00/10623500_1931-09-25_1956.jpg  705551   \n",
       "9  00/10870400_1971-06-28_2013.jpg  720072   \n",
       "\n",
       "                                    face_location  face_score  gender  \\\n",
       "0  126.869      111.111      267.897      252.138      5.2548     0.0   \n",
       "1  217.681      129.039      305.324      216.681      3.6931     1.0   \n",
       "2   80.871      90.9204      170.839      180.889      4.1361     1.0   \n",
       "3  40.7043      120.353      398.243      477.891      3.8709     1.0   \n",
       "4   315.84         62.4          384       130.56      3.2003     1.0   \n",
       "5  269.565      44.2163       346.69      121.342      3.2169     1.0   \n",
       "6  196.998      74.4241      306.434       183.86      3.3795     1.0   \n",
       "7  79.7026      132.251      315.291      367.839      3.8765     1.0   \n",
       "8  118.427      74.3167      249.957      205.847      3.9789     0.0   \n",
       "9   169.84       183.92       295.68       309.76      2.9951     1.0   \n",
       "\n",
       "   photo_taken  second_face_score  age  \n",
       "0         1958                NaN   66  \n",
       "1         2012                NaN   26  \n",
       "2         1960                NaN   42  \n",
       "3         2008                NaN   48  \n",
       "4         2011                NaN   29  \n",
       "5         2009                NaN   25  \n",
       "6         2013                NaN   67  \n",
       "7         1951                NaN   35  \n",
       "8         1956                NaN   24  \n",
       "9         2013                NaN   42  "
      ]
     },
     "execution_count": 18,
     "metadata": {},
     "output_type": "execute_result"
    }
   ],
   "source": [
    "meta.sort_values(by='full_path',inplace=True)\n",
    "meta.reset_index(drop=True,inplace=True)\n",
    "meta.head(10)"
   ]
  },
  {
   "cell_type": "code",
   "execution_count": 19,
   "metadata": {
    "collapsed": false,
    "deletable": true,
    "editable": true
   },
   "outputs": [
    {
     "data": {
      "text/plain": [
       "<matplotlib.axes._subplots.AxesSubplot at 0x112661f50>"
      ]
     },
     "execution_count": 19,
     "metadata": {},
     "output_type": "execute_result"
    },
    {
     "data": {
      "image/png": "[encoded data removed]",
      "text/plain": [
       "<matplotlib.figure.Figure at 0x11266c790>"
      ]
     },
     "metadata": {},
     "output_type": "display_data"
    }
   ],
   "source": [
    "#meta.face_score[meta.face_score>0].hist()\n",
    "meta.age.hist(bins=30)"
   ]
  },
  {
   "cell_type": "markdown",
   "metadata": {
    "deletable": true,
    "editable": true
   },
   "source": [
    "### Add age classes/labels"
   ]
  },
  {
   "cell_type": "code",
   "execution_count": 24,
   "metadata": {
    "collapsed": false,
    "deletable": true,
    "editable": true
   },
   "outputs": [
    {
     "data": {
      "text/plain": [
       "[NaN, 1.0, 2.0, 2.0, 3.0, 4.0, 5.0, 6.0, 6.0]\n",
       "Categories (6, int64): [1 < 2 < 3 < 4 < 5 < 6]"
      ]
     },
     "execution_count": 24,
     "metadata": {},
     "output_type": "execute_result"
    }
   ],
   "source": [
    "ageBins  = [0, 18, 29, 39, 49 , 59, 131]\n",
    "ageLabels = [1,2,3,4,5,6]\n",
    "#test\n",
    "pd.cut([0,18,19,29,30,40,50,60,130], ageBins, labels=ageLabels)"
   ]
  },
  {
   "cell_type": "code",
   "execution_count": 31,
   "metadata": {
    "collapsed": false,
    "deletable": true,
    "editable": true
   },
   "outputs": [
    {
     "data": {
      "text/html": [
       "<div>\n",
       "<table border=\"1\" class=\"dataframe\">\n",
       "  <thead>\n",
       "    <tr style=\"text-align: right;\">\n",
       "      <th></th>\n",
       "      <th>full_path</th>\n",
       "      <th>dob</th>\n",
       "      <th>face_location</th>\n",
       "      <th>face_score</th>\n",
       "      <th>gender</th>\n",
       "      <th>photo_taken</th>\n",
       "      <th>second_face_score</th>\n",
       "      <th>age</th>\n",
       "      <th>ageLabel</th>\n",
       "    </tr>\n",
       "  </thead>\n",
       "  <tbody>\n",
       "    <tr>\n",
       "      <th>0</th>\n",
       "      <td>00/10049200_1891-09-16_1958.jpg</td>\n",
       "      <td>690933</td>\n",
       "      <td>126.869      111.111      267.897      252.138</td>\n",
       "      <td>5.2548</td>\n",
       "      <td>0.0</td>\n",
       "      <td>1958</td>\n",
       "      <td>NaN</td>\n",
       "      <td>66</td>\n",
       "      <td>6</td>\n",
       "    </tr>\n",
       "    <tr>\n",
       "      <th>1</th>\n",
       "      <td>00/10110600_1985-09-17_2012.jpg</td>\n",
       "      <td>725267</td>\n",
       "      <td>217.681      129.039      305.324      216.681</td>\n",
       "      <td>3.6931</td>\n",
       "      <td>1.0</td>\n",
       "      <td>2012</td>\n",
       "      <td>NaN</td>\n",
       "      <td>26</td>\n",
       "      <td>2</td>\n",
       "    </tr>\n",
       "    <tr>\n",
       "      <th>2</th>\n",
       "      <td>00/1013900_1917-10-15_1960.jpg</td>\n",
       "      <td>700458</td>\n",
       "      <td>80.871      90.9204      170.839      180.889</td>\n",
       "      <td>4.1361</td>\n",
       "      <td>1.0</td>\n",
       "      <td>1960</td>\n",
       "      <td>NaN</td>\n",
       "      <td>42</td>\n",
       "      <td>4</td>\n",
       "    </tr>\n",
       "  </tbody>\n",
       "</table>\n",
       "</div>"
      ],
      "text/plain": [
       "                         full_path     dob  \\\n",
       "0  00/10049200_1891-09-16_1958.jpg  690933   \n",
       "1  00/10110600_1985-09-17_2012.jpg  725267   \n",
       "2   00/1013900_1917-10-15_1960.jpg  700458   \n",
       "\n",
       "                                    face_location  face_score  gender  \\\n",
       "0  126.869      111.111      267.897      252.138      5.2548     0.0   \n",
       "1  217.681      129.039      305.324      216.681      3.6931     1.0   \n",
       "2   80.871      90.9204      170.839      180.889      4.1361     1.0   \n",
       "\n",
       "   photo_taken  second_face_score  age ageLabel  \n",
       "0         1958                NaN   66        6  \n",
       "1         2012                NaN   26        2  \n",
       "2         1960                NaN   42        4  "
      ]
     },
     "execution_count": 31,
     "metadata": {},
     "output_type": "execute_result"
    }
   ],
   "source": [
    "meta[\"ageLabel\"]=pd.cut(meta.age, ageBins, labels=ageLabels)\n",
    "assert(any(~meta.ageLabel.isnull()))\n",
    "meta.head(3)"
   ]
  },
  {
   "cell_type": "code",
   "execution_count": 35,
   "metadata": {
    "collapsed": false,
    "deletable": true,
    "editable": true
   },
   "outputs": [
    {
     "data": {
      "text/plain": [
       "<matplotlib.axes._subplots.AxesSubplot at 0x118302190>"
      ]
     },
     "execution_count": 35,
     "metadata": {},
     "output_type": "execute_result"
    },
    {
     "data": {
      "image/png": "[encoded data removed]",
      "text/plain": [
       "<matplotlib.figure.Figure at 0x113380350>"
      ]
     },
     "metadata": {},
     "output_type": "display_data"
    }
   ],
   "source": [
    "meta.ageLabel.hist(bins=15)"
   ]
  },
  {
   "cell_type": "code",
   "execution_count": 36,
   "metadata": {
    "collapsed": true,
    "deletable": true,
    "editable": true
   },
   "outputs": [],
   "source": [
    "meta.to_pickle(\"wiki_meta_clean.pkl\")"
   ]
  },
  {
   "cell_type": "code",
   "execution_count": 13,
   "metadata": {
    "collapsed": false,
    "deletable": true,
    "editable": true
   },
   "outputs": [
    {
     "data": {
      "text/html": [
       "<div>\n",
       "<table border=\"1\" class=\"dataframe\">\n",
       "  <thead>\n",
       "    <tr style=\"text-align: right;\">\n",
       "      <th></th>\n",
       "      <th>full_path</th>\n",
       "      <th>dob</th>\n",
       "      <th>face_location</th>\n",
       "      <th>face_score</th>\n",
       "      <th>gender</th>\n",
       "      <th>photo_taken</th>\n",
       "      <th>second_face_score</th>\n",
       "      <th>age</th>\n",
       "      <th>ageLabel</th>\n",
       "    </tr>\n",
       "  </thead>\n",
       "  <tbody>\n",
       "    <tr>\n",
       "      <th>19453</th>\n",
       "      <td>48/26614448_1940-04-30_1940.jpg</td>\n",
       "      <td>708691</td>\n",
       "      <td>63.244       84.108      250.368      271.232</td>\n",
       "      <td>5.6453</td>\n",
       "      <td>1.0</td>\n",
       "      <td>1940</td>\n",
       "      <td>NaN</td>\n",
       "      <td>0</td>\n",
       "      <td>NaN</td>\n",
       "    </tr>\n",
       "    <tr>\n",
       "      <th>27265</th>\n",
       "      <td>67/45274267_2002-04-12_2002.jpg</td>\n",
       "      <td>731318</td>\n",
       "      <td>37.352       67.048      103.936       117.16</td>\n",
       "      <td>3.0566</td>\n",
       "      <td>NaN</td>\n",
       "      <td>2002</td>\n",
       "      <td>NaN</td>\n",
       "      <td>0</td>\n",
       "      <td>NaN</td>\n",
       "    </tr>\n",
       "  </tbody>\n",
       "</table>\n",
       "</div>"
      ],
      "text/plain": [
       "                             full_path     dob  \\\n",
       "19453  48/26614448_1940-04-30_1940.jpg  708691   \n",
       "27265  67/45274267_2002-04-12_2002.jpg  731318   \n",
       "\n",
       "                                       face_location  face_score  gender  \\\n",
       "19453  63.244       84.108      250.368      271.232      5.6453     1.0   \n",
       "27265  37.352       67.048      103.936       117.16      3.0566     NaN   \n",
       "\n",
       "       photo_taken  second_face_score  age ageLabel  \n",
       "19453         1940                NaN    0      NaN  \n",
       "27265         2002                NaN    0      NaN  "
      ]
     },
     "execution_count": 13,
     "metadata": {},
     "output_type": "execute_result"
    }
   ],
   "source": [
    "meta[meta.ageLabel.isnull()]"
   ]
  },
  {
   "cell_type": "code",
   "execution_count": null,
   "metadata": {
    "collapsed": true
   },
   "outputs": [],
   "source": []
  }
 ],
 "metadata": {
  "kernelspec": {
   "display_name": "Python 2",
   "language": "python",
   "name": "python2"
  },
  "language_info": {
   "codemirror_mode": {
    "name": "ipython",
    "version": 2
   },
   "file_extension": ".py",
   "mimetype": "text/x-python",
   "name": "python",
   "nbconvert_exporter": "python",
   "pygments_lexer": "ipython2",
   "version": "2.7.13"
  }
 },
 "nbformat": 4,
 "nbformat_minor": 2
}
