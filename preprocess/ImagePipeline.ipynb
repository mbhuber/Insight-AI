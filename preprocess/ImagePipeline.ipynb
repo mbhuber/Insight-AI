{
 "cells": [
  {
   "cell_type": "code",
   "execution_count": 68,
   "metadata": {
    "collapsed": false,
    "deletable": true,
    "editable": true
   },
   "outputs": [],
   "source": [
    "import os, shutil\n",
    "import numpy as np\n",
    "import time\n",
    "import matplotlib.pyplot as plt\n",
    "\n",
    "from keras.preprocessing.image import ImageDataGenerator\n",
    "\n",
    "%matplotlib inline"
   ]
  },
  {
   "cell_type": "code",
   "execution_count": 4,
   "metadata": {
    "collapsed": true,
    "deletable": true,
    "editable": true
   },
   "outputs": [],
   "source": [
    "### Create folder structure"
   ]
  },
  {
   "cell_type": "code",
   "execution_count": 66,
   "metadata": {
    "collapsed": false,
    "deletable": true,
    "editable": true
   },
   "outputs": [],
   "source": [
    "imagePath     = '../../data/imdb-wiki_crop_clean_align128/'\n",
    "imageList=sorted(os.listdir(imagePath))\n",
    "pipePath = '../../data/imdb-wiki_crop_clean_align128_kerasPipe/'\n",
    "trainDir = pipePath + \"train/\"\n",
    "testDir  = pipePath + \"test/\""
   ]
  },
  {
   "cell_type": "code",
   "execution_count": 70,
   "metadata": {
    "collapsed": false,
    "deletable": true,
    "editable": true
   },
   "outputs": [
    {
     "name": "stdout",
     "output_type": "stream",
     "text": [
      "create ../../data/imdb-wiki_crop_clean_align128_kerasPipe/\n",
      "create ../../data/imdb-wiki_crop_clean_align128_kerasPipe/test/2/\n",
      "create ../../data/imdb-wiki_crop_clean_align128_kerasPipe/test/4/\n",
      "create ../../data/imdb-wiki_crop_clean_align128_kerasPipe/test/3/\n",
      "create ../../data/imdb-wiki_crop_clean_align128_kerasPipe/test/5/\n",
      "create ../../data/imdb-wiki_crop_clean_align128_kerasPipe/test/0/\n",
      "create ../../data/imdb-wiki_crop_clean_align128_kerasPipe/test/1/\n",
      "create ../../data/imdb-wiki_crop_clean_align128_kerasPipe/train/3/\n",
      "create ../../data/imdb-wiki_crop_clean_align128_kerasPipe/train/2/\n",
      "create ../../data/imdb-wiki_crop_clean_align128_kerasPipe/train/5/\n",
      "create ../../data/imdb-wiki_crop_clean_align128_kerasPipe/train/4/\n",
      "create ../../data/imdb-wiki_crop_clean_align128_kerasPipe/train/1/\n",
      "create ../../data/imdb-wiki_crop_clean_align128_kerasPipe/train/0/\n",
      "time 2.80947519938 min\n"
     ]
    }
   ],
   "source": [
    "ntest = 6000\n",
    "\n",
    "if not os.path.exists(pipePath):\n",
    "    print(\"create \"+pipePath)\n",
    "    os.makedirs(pipePath)\n",
    "\n",
    "# randomize/shuffle image idx\n",
    "np.random.seed(123)\n",
    "nima=len(imageList)\n",
    "imageIdx = list(range(nima))\n",
    "np.random.seed(123)\n",
    "np.random.shuffle(imageIdx)\n",
    "\n",
    "# collect labels\n",
    "testLabel = []\n",
    "trainLabel = []\n",
    "\n",
    "ct = time.time()\n",
    "cnt = 0 \n",
    "for iidx in imageIdx:\n",
    "    cnt+=1\n",
    "    \n",
    "    imaFile = imageList[iidx]\n",
    "    clStr = imaFile[-5] # class label\n",
    "    \n",
    "    if cnt<ntest:\n",
    "        tmpPath = testDir\n",
    "        testLabel.append(int(clStr))\n",
    "    else:\n",
    "        tmpPath = trainDir\n",
    "        trainLabel.append(int(clStr))\n",
    "    \n",
    "    destDir = tmpPath + clStr + '/' # add class label\n",
    "    \n",
    "    if not os.path.exists(destDir):\n",
    "        print(\"create \"+ destDir)\n",
    "        os.makedirs(destDir)\n",
    "    \n",
    "    # move file\n",
    "    shutil.copy2(imagePath+imaFile,destDir+imaFile)\n",
    "    \n",
    "    \n",
    "print('time {} min'.format((time.time()-ct)/60.))"
   ]
  },
  {
   "cell_type": "code",
   "execution_count": 41,
   "metadata": {
    "collapsed": false,
    "deletable": true,
    "editable": true
   },
   "outputs": [
    {
     "data": {
      "image/png": "[encoded data removed]",
      "text/plain": [
       "<matplotlib.figure.Figure at 0x10cdf90f0>"
      ]
     },
     "metadata": {},
     "output_type": "display_data"
    }
   ],
   "source": [
    "plt.hist(testLabel,bins=15,normed=True,alpha=0.5)\n",
    "_=plt.hist(trainLabel,bins=15,normed=True,alpha=0.5)"
   ]
  },
  {
   "cell_type": "markdown",
   "metadata": {
    "deletable": true,
    "editable": true
   },
   "source": [
    "### Test image pipeline"
   ]
  },
  {
   "cell_type": "code",
   "execution_count": 62,
   "metadata": {
    "collapsed": false,
    "deletable": true,
    "editable": true
   },
   "outputs": [
    {
     "name": "stdout",
     "output_type": "stream",
     "text": [
      "Found 134306 images belonging to 6 classes.\n",
      "Found 4999 images belonging to 6 classes.\n"
     ]
    },
    {
     "ename": "TypeError",
     "evalue": "'int' object is not iterable",
     "output_type": "error",
     "traceback": [
      "\u001b[0;31m---------------------------------------------------------------------------\u001b[0m",
      "\u001b[0;31mTypeError\u001b[0m                                 Traceback (most recent call last)",
      "\u001b[0;32m<ipython-input-62-9d4384bf8dda>\u001b[0m in \u001b[0;36m<module>\u001b[0;34m()\u001b[0m\n\u001b[1;32m     27\u001b[0m         \u001b[0mbatch_size\u001b[0m\u001b[0;34m=\u001b[0m\u001b[0mbatchSize\u001b[0m\u001b[0;34m,\u001b[0m\u001b[0;34m\u001b[0m\u001b[0m\n\u001b[1;32m     28\u001b[0m         \u001b[0mseed\u001b[0m \u001b[0;34m=\u001b[0m \u001b[0;36m1234\u001b[0m\u001b[0;34m,\u001b[0m\u001b[0;34m\u001b[0m\u001b[0m\n\u001b[0;32m---> 29\u001b[0;31m         class_mode='sparse')  # since we use binary_crossentropy loss, we need binary labels\n\u001b[0m",
      "\u001b[0;32m/opt/anaconda/envs/tf_py2.7/lib/python2.7/site-packages/keras/preprocessing/image.pyc\u001b[0m in \u001b[0;36mflow_from_directory\u001b[0;34m(self, directory, target_size, color_mode, classes, class_mode, batch_size, shuffle, seed, save_to_dir, save_prefix, save_format, follow_links)\u001b[0m\n\u001b[1;32m    444\u001b[0m             \u001b[0msave_prefix\u001b[0m\u001b[0;34m=\u001b[0m\u001b[0msave_prefix\u001b[0m\u001b[0;34m,\u001b[0m\u001b[0;34m\u001b[0m\u001b[0m\n\u001b[1;32m    445\u001b[0m             \u001b[0msave_format\u001b[0m\u001b[0;34m=\u001b[0m\u001b[0msave_format\u001b[0m\u001b[0;34m,\u001b[0m\u001b[0;34m\u001b[0m\u001b[0m\n\u001b[0;32m--> 446\u001b[0;31m             follow_links=follow_links)\n\u001b[0m\u001b[1;32m    447\u001b[0m \u001b[0;34m\u001b[0m\u001b[0m\n\u001b[1;32m    448\u001b[0m     \u001b[0;32mdef\u001b[0m \u001b[0mstandardize\u001b[0m\u001b[0;34m(\u001b[0m\u001b[0mself\u001b[0m\u001b[0;34m,\u001b[0m \u001b[0mx\u001b[0m\u001b[0;34m)\u001b[0m\u001b[0;34m:\u001b[0m\u001b[0;34m\u001b[0m\u001b[0m\n",
      "\u001b[0;32m/opt/anaconda/envs/tf_py2.7/lib/python2.7/site-packages/keras/preprocessing/image.pyc\u001b[0m in \u001b[0;36m__init__\u001b[0;34m(self, directory, image_data_generator, target_size, color_mode, dim_ordering, classes, class_mode, batch_size, shuffle, seed, save_to_dir, save_prefix, save_format, follow_links)\u001b[0m\n\u001b[1;32m    742\u001b[0m         \u001b[0mself\u001b[0m\u001b[0;34m.\u001b[0m\u001b[0mdirectory\u001b[0m \u001b[0;34m=\u001b[0m \u001b[0mdirectory\u001b[0m\u001b[0;34m\u001b[0m\u001b[0m\n\u001b[1;32m    743\u001b[0m         \u001b[0mself\u001b[0m\u001b[0;34m.\u001b[0m\u001b[0mimage_data_generator\u001b[0m \u001b[0;34m=\u001b[0m \u001b[0mimage_data_generator\u001b[0m\u001b[0;34m\u001b[0m\u001b[0m\n\u001b[0;32m--> 744\u001b[0;31m         \u001b[0mself\u001b[0m\u001b[0;34m.\u001b[0m\u001b[0mtarget_size\u001b[0m \u001b[0;34m=\u001b[0m \u001b[0mtuple\u001b[0m\u001b[0;34m(\u001b[0m\u001b[0mtarget_size\u001b[0m\u001b[0;34m)\u001b[0m\u001b[0;34m\u001b[0m\u001b[0m\n\u001b[0m\u001b[1;32m    745\u001b[0m         \u001b[0;32mif\u001b[0m \u001b[0mcolor_mode\u001b[0m \u001b[0;32mnot\u001b[0m \u001b[0;32min\u001b[0m \u001b[0;34m{\u001b[0m\u001b[0;34m'rgb'\u001b[0m\u001b[0;34m,\u001b[0m \u001b[0;34m'grayscale'\u001b[0m\u001b[0;34m}\u001b[0m\u001b[0;34m:\u001b[0m\u001b[0;34m\u001b[0m\u001b[0m\n\u001b[1;32m    746\u001b[0m             raise ValueError('Invalid color mode:', color_mode,\n",
      "\u001b[0;31mTypeError\u001b[0m: 'int' object is not iterable"
     ]
    }
   ],
   "source": [
    "numEpoch = 3\n",
    "batchSize =10\n",
    "\n",
    "targetSize = (64,64)\n",
    "\n",
    "#trainGen = ImageDataGenerator()\n",
    "\n",
    "def createImageGenerator(imageDir,batchSize,targetSize):\n",
    "    return ImageDataGenerator().flow_from_directory(\n",
    "        imageDir,  # this is the target directory\n",
    "        target_size = targetSize,\n",
    "        batch_size=batchSize,\n",
    "        seed = 1234,\n",
    "        class_mode='sparse')\n",
    "\n",
    "def preprocessImageBatch(imaArr):\n",
    "    imaArr = imaArr.transpose((0,3,1,2))\n",
    "    imaArr = (imaArr.astype(np.float32) - 127.5) / 127.5\n",
    "    return imaArr\n",
    "    \n",
    "trainGenerator = createImageGenerator(trainDir,batchSize,targetSize) \n",
    "testGenerator  = createImageGenerator(testDir ,batchSize,targetSize) \n",
    "\n",
    "# trainGenerator = ImageDataGenerator().flow_from_directory(\n",
    "#         trainDir,  # this is the target directory\n",
    "#         target_size = -1,\n",
    "#         batch_size=batchSize,\n",
    "#         seed = 1234,\n",
    "#         class_mode='sparse')  # since we use binary_crossentropy loss, we need binary labels\n"
   ]
  },
  {
   "cell_type": "code",
   "execution_count": null,
   "metadata": {
    "collapsed": true
   },
   "outputs": [],
   "source": []
  },
  {
   "cell_type": "code",
   "execution_count": 64,
   "metadata": {
    "collapsed": false,
    "deletable": true,
    "editable": true
   },
   "outputs": [
    {
     "name": "stdout",
     "output_type": "stream",
     "text": [
      "Epoch 0\n",
      "[4 2 4 0 0 3 3 2 0 3]\n",
      "[2 4 2 2 5 1 1 5 4 1]\n",
      "[1 3 1 2 3 2 3 4 1 1]\n",
      "Epoch 1\n",
      "[3 4 3 5 2 1 1 2 4 5]\n",
      "[1 4 2 1 2 5 1 1 2 2]\n",
      "[3 3 1 2 2 3 5 2 3 1]\n",
      "Epoch 2\n",
      "[1 1 3 1 1 1 3 3 3 2]\n",
      "[1 0 2 0 2 2 5 2 3 0]\n",
      "[2 2 3 2 0 4 0 3 5 3]\n",
      "Epoch 0\n",
      "[2 3 1 2 4 2 2 2 1 0]\n",
      "[2 2 5 1 4 2 2 2 2 5]\n",
      "Epoch 1\n",
      "[1 2 2 2 2 0 3 3 2 3]\n",
      "[2 1 1 1 5 5 3 5 4 2]\n",
      "Epoch 2\n",
      "[5 2 2 2 2 0 3 1 2 3]\n",
      "[2 1 1 1 5 1 5 2 4 0]\n"
     ]
    }
   ],
   "source": [
    "# here's a more \"manual\" example\n",
    "\n",
    "nb_batch =3\n",
    "for e in range(numEpoch):\n",
    "    print 'Epoch', e\n",
    "    batches = 0\n",
    "    for X_batch, Y_batch in trainGenerator:\n",
    "        print Y_batch\n",
    "        batches += 1\n",
    "        if batches >= nb_batch:\n",
    "            # we need to break the loop by hand because\n",
    "            # the generator loops indefinitely\n",
    "            break\n",
    "\n",
    "for e in range(numEpoch):\n",
    "    print 'Epoch', e\n",
    "    batches = 0\n",
    "    for k in range(2):\n",
    "        X_batch, Y_batch =  testGenerator.next()\n",
    "        print Y_batch\n",
    "        batches += 1\n",
    "        if batches >= nb_batch:\n",
    "            # we need to break the loop by hand because\n",
    "            # the generator loops indefinitely\n",
    "            break"
   ]
  },
  {
   "cell_type": "code",
   "execution_count": 55,
   "metadata": {
    "collapsed": false
   },
   "outputs": [
    {
     "data": {
      "text/plain": [
       "134306"
      ]
     },
     "execution_count": 55,
     "metadata": {},
     "output_type": "execute_result"
    }
   ],
   "source": [
    "trainGenerator.n"
   ]
  },
  {
   "cell_type": "code",
   "execution_count": 65,
   "metadata": {
    "collapsed": false
   },
   "outputs": [
    {
     "name": "stdout",
     "output_type": "stream",
     "text": [
      "[(10, 64, 64, 3), (10,)]\n"
     ]
    }
   ],
   "source": [
    "print([X_batch.shape,Y_batch.shape])"
   ]
  },
  {
   "cell_type": "code",
   "execution_count": 45,
   "metadata": {
    "collapsed": false
   },
   "outputs": [
    {
     "data": {
      "text/plain": [
       "<matplotlib.image.AxesImage at 0x1270fc090>"
      ]
     },
     "execution_count": 45,
     "metadata": {},
     "output_type": "execute_result"
    },
    {
     "data": {
      "image/png": "[encoded data removed]",
      "text/plain": [
       "<matplotlib.figure.Figure at 0x126ae0150>"
      ]
     },
     "metadata": {},
     "output_type": "display_data"
    }
   ],
   "source": [
    "plt.imshow(X_batch[0]/255.)"
   ]
  },
  {
   "cell_type": "code",
   "execution_count": 42,
   "metadata": {
    "collapsed": false
   },
   "outputs": [
    {
     "data": {
      "text/plain": [
       "(64, 64, 3)"
      ]
     },
     "execution_count": 42,
     "metadata": {},
     "output_type": "execute_result"
    }
   ],
   "source": [
    "trainGenerator.image_shape"
   ]
  },
  {
   "cell_type": "code",
   "execution_count": 46,
   "metadata": {
    "collapsed": true
   },
   "outputs": [],
   "source": [
    "x,y = trainGenerator.next()"
   ]
  },
  {
   "cell_type": "code",
   "execution_count": 51,
   "metadata": {
    "collapsed": false
   },
   "outputs": [
    {
     "data": {
      "text/plain": [
       "(10,)"
      ]
     },
     "execution_count": 51,
     "metadata": {},
     "output_type": "execute_result"
    }
   ],
   "source": [
    "y.s"
   ]
  },
  {
   "cell_type": "code",
   "execution_count": 53,
   "metadata": {
    "collapsed": true
   },
   "outputs": [],
   "source": [
    "a= preprocessImageBatch(x)"
   ]
  },
  {
   "cell_type": "code",
   "execution_count": 54,
   "metadata": {
    "collapsed": false
   },
   "outputs": [
    {
     "data": {
      "text/plain": [
       "(10, 3, 64, 64)"
      ]
     },
     "execution_count": 54,
     "metadata": {},
     "output_type": "execute_result"
    }
   ],
   "source": [
    "a.shape"
   ]
  },
  {
   "cell_type": "code",
   "execution_count": 59,
   "metadata": {
    "collapsed": false
   },
   "outputs": [
    {
     "data": {
      "text/plain": [
       "6"
      ]
     },
     "execution_count": 59,
     "metadata": {},
     "output_type": "execute_result"
    }
   ],
   "source": [
    "len(trainGenerator.class_indices.keys())"
   ]
  },
  {
   "cell_type": "code",
   "execution_count": 71,
   "metadata": {
    "collapsed": false
   },
   "outputs": [
    {
     "data": {
      "text/plain": [
       "10"
      ]
     },
     "execution_count": 71,
     "metadata": {},
     "output_type": "execute_result"
    }
   ],
   "source": [
    "trainGenerator.batch_size"
   ]
  },
  {
   "cell_type": "code",
   "execution_count": null,
   "metadata": {
    "collapsed": true
   },
   "outputs": [],
   "source": []
  }
 ],
 "metadata": {
  "kernelspec": {
   "display_name": "Python 2",
   "language": "python",
   "name": "python2"
  },
  "language_info": {
   "codemirror_mode": {
    "name": "ipython",
    "version": 2
   },
   "file_extension": ".py",
   "mimetype": "text/x-python",
   "name": "python",
   "nbconvert_exporter": "python",
   "pygments_lexer": "ipython2",
   "version": "2.7.13"
  }
 },
 "nbformat": 4,
 "nbformat_minor": 2
}
